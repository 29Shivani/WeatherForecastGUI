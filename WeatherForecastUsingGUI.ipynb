{
 "cells": [
  {
   "cell_type": "code",
   "execution_count": 1,
   "id": "3f0ebdad-8b07-4e6b-b249-8193a064248f",
   "metadata": {},
   "outputs": [
    {
     "name": "stdout",
     "output_type": "stream",
     "text": [
      "Requirement already satisfied: requests in c:\\python\\lib\\site-packages (2.31.0)\n",
      "Requirement already satisfied: charset-normalizer<4,>=2 in c:\\python\\lib\\site-packages (from requests) (3.3.2)\n",
      "Requirement already satisfied: idna<4,>=2.5 in c:\\python\\lib\\site-packages (from requests) (3.4)\n",
      "Requirement already satisfied: urllib3<3,>=1.21.1 in c:\\python\\lib\\site-packages (from requests) (1.26.18)\n",
      "Requirement already satisfied: certifi>=2017.4.17 in c:\\python\\lib\\site-packages (from requests) (2023.7.22)\n"
     ]
    }
   ],
   "source": [
    "!pip install requests\n"
   ]
  },
  {
   "cell_type": "code",
   "execution_count": null,
   "id": "3371685e-b110-4d4a-9f1a-092861a31340",
   "metadata": {},
   "outputs": [],
   "source": [
    "'''\n",
    "Python Program to Check Weather Forecast without icons\n",
    "'''\n",
    "\n",
    "import tkinter as tk\n",
    "import requests\n",
    "\n",
    "HEIGHT = 300\n",
    "WIDTH = 500\n",
    "\n",
    "def test_function(entry):\n",
    "\tprint(\"This is the entry:\", entry)\n",
    "\n",
    "# api.openweathermap.org/data/2.5/forecast?q={city name},{country code}\n",
    "# a4aa5e3d83ffefaba8c00284de6ef7c3\n",
    "\n",
    "def format_response(weather):\n",
    "\ttry:\n",
    "\t\tname = weather['name']\n",
    "\t\tdesc = weather['weather'][0]['description']\n",
    "\t\ttemp = weather['main']['temp']\n",
    "\n",
    "\t\tfinal_str = 'City: %s \\nConditions: %s \\nTemperature (°F): %s' % (name, desc, temp)\n",
    "\texcept:\n",
    "\t\tfinal_str = 'There was a problem retrieving that information'\n",
    "\n",
    "\treturn final_str\n",
    "\n",
    "def get_weather(city):\n",
    "\tweather_key = 'a4aa5e3d83ffefaba8c00284de6ef7c3'\n",
    "\turl = 'https://api.openweathermap.org/data/2.5/weather'\n",
    "\tparams = {'APPID': weather_key, 'q': city, 'units': 'imperial'}\n",
    "\tresponse = requests.get(url, params=params)\n",
    "\tweather = response.json()\n",
    "\n",
    "\tlabel['text'] = format_response(weather)\n",
    "\n",
    "\n",
    "\n",
    "root = tk.Tk()\n",
    "\n",
    "canvas = tk.Canvas(root, height=HEIGHT, width=WIDTH)\n",
    "canvas.pack()\n",
    "\n",
    "background_image = tk.PhotoImage(file='img\\landscape.png')\n",
    "background_label = tk.Label(root, image=background_image)\n",
    "background_label.place(relwidth=1, relheight=1)\n",
    "\n",
    "frame = tk.Frame(root, bg='#80c1ff', bd=5)\n",
    "frame.place(relx=0.5, rely=0.1, relwidth=0.75, relheight=0.1, anchor='n')\n",
    "\n",
    "entry = tk.Entry(frame, font=40)\n",
    "entry.place(relwidth=0.65, relheight=1)\n",
    "\n",
    "button = tk.Button(frame, text=\"Get Weather\", font=40, command=lambda: get_weather(entry.get()))\n",
    "button.place(relx=0.7, relheight=1, relwidth=0.3)\n",
    "\n",
    "lower_frame = tk.Frame(root, bg='#80c1ff', bd=10)\n",
    "lower_frame.place(relx=0.5, rely=0.25, relwidth=0.75, relheight=0.6, anchor='n')\n",
    "\n",
    "label = tk.Label(lower_frame)\n",
    "label.place(relwidth=1, relheight=1)\n",
    "\n",
    "root.mainloop()"
   ]
  },
  {
   "cell_type": "code",
   "execution_count": null,
   "id": "025b40a9-a846-4378-b395-05678c8616a1",
   "metadata": {},
   "outputs": [],
   "source": []
  }
 ],
 "metadata": {
  "kernelspec": {
   "display_name": "Python 3 (ipykernel)",
   "language": "python",
   "name": "python3"
  },
  "language_info": {
   "codemirror_mode": {
    "name": "ipython",
    "version": 3
   },
   "file_extension": ".py",
   "mimetype": "text/x-python",
   "name": "python",
   "nbconvert_exporter": "python",
   "pygments_lexer": "ipython3",
   "version": "3.9.8"
  }
 },
 "nbformat": 4,
 "nbformat_minor": 5
}
